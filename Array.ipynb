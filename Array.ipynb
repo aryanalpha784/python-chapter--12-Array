{
 "cells": [
  {
   "cell_type": "markdown",
   "id": "488fa500-311f-4ecc-9b41-23de0c25759f",
   "metadata": {},
   "source": [
    "# Array in Python\n",
    "\n",
    "# Array is container that holds multiple values of the same type.\n",
    "\n",
    "syntax:\n",
    "\n",
    "var = ARRAY(TYPE CODE, [ELEMENT])"
   ]
  },
  {
   "cell_type": "code",
   "execution_count": 5,
   "id": "50f00106-1a56-42e9-94b3-85d71da19ce6",
   "metadata": {},
   "outputs": [],
   "source": [
    "from array import *"
   ]
  },
  {
   "cell_type": "code",
   "execution_count": 8,
   "id": "b8b5fffe-8690-4e67-bf54-a318250986a7",
   "metadata": {},
   "outputs": [
    {
     "name": "stdout",
     "output_type": "stream",
     "text": [
      "array('i', [-1, 2, 3, 4, 5])\n"
     ]
    }
   ],
   "source": [
    "arr = array('i',[-1,2,3,4,5])\n",
    "print(arr)"
   ]
  },
  {
   "cell_type": "code",
   "execution_count": 10,
   "id": "97d516dc-59fa-419c-bf47-a72b5b8ca8ce",
   "metadata": {},
   "outputs": [
    {
     "name": "stdout",
     "output_type": "stream",
     "text": [
      "(2957362739696, 5)\n"
     ]
    }
   ],
   "source": [
    "print(arr.buffer_info())"
   ]
  },
  {
   "cell_type": "code",
   "execution_count": 12,
   "id": "0d3d26a0-6a0e-46d7-8557-b8f593467ecc",
   "metadata": {},
   "outputs": [
    {
     "name": "stdout",
     "output_type": "stream",
     "text": [
      "3\n"
     ]
    }
   ],
   "source": [
    "print(arr[2])"
   ]
  },
  {
   "cell_type": "code",
   "execution_count": 14,
   "id": "931dd9b7-447b-44dc-bd57-d8c4ddd7c6db",
   "metadata": {},
   "outputs": [
    {
     "name": "stdout",
     "output_type": "stream",
     "text": [
      "-1\n",
      "2\n",
      "3\n",
      "4\n",
      "5\n"
     ]
    }
   ],
   "source": [
    "for i in arr:\n",
    "    print(i)"
   ]
  },
  {
   "cell_type": "code",
   "execution_count": 16,
   "id": "02441035-b199-4588-9745-1dff066ea34b",
   "metadata": {},
   "outputs": [
    {
     "name": "stdout",
     "output_type": "stream",
     "text": [
      "-1\n",
      "2\n",
      "3\n",
      "4\n",
      "5\n"
     ]
    }
   ],
   "source": [
    "for pnt in range(5):\n",
    "    print(arr[pnt])"
   ]
  },
  {
   "cell_type": "code",
   "execution_count": 18,
   "id": "42d3acea-db38-40d5-9552-fdebf4dd7229",
   "metadata": {},
   "outputs": [
    {
     "name": "stdout",
     "output_type": "stream",
     "text": [
      "array('i', [5, 4, 3, 2, -1])\n"
     ]
    }
   ],
   "source": [
    "arr.reverse()\n",
    "print(arr)"
   ]
  },
  {
   "cell_type": "code",
   "execution_count": 20,
   "id": "5a76417a-17b8-49e8-a612-0d6ef3ad1d4f",
   "metadata": {},
   "outputs": [
    {
     "name": "stdout",
     "output_type": "stream",
     "text": [
      "array('i', [5, 4, 3, 2, -1, 10])\n"
     ]
    }
   ],
   "source": [
    "arr.append(10)\n",
    "print(arr)"
   ]
  },
  {
   "cell_type": "code",
   "execution_count": 26,
   "id": "32b2d583-1abd-4351-95d1-ce3227a3871f",
   "metadata": {},
   "outputs": [
    {
     "name": "stdout",
     "output_type": "stream",
     "text": [
      "-1\n",
      "1\n"
     ]
    }
   ],
   "source": [
    "print(arr[3])\n",
    "print(arr.index(4))"
   ]
  },
  {
   "cell_type": "code",
   "execution_count": 34,
   "id": "2ee0f7c4-5fd0-4804-874b-452d53d213cd",
   "metadata": {},
   "outputs": [
    {
     "name": "stdin",
     "output_type": "stream",
     "text": [
      "Enter size of array:  10\n"
     ]
    },
    {
     "name": "stdout",
     "output_type": "stream",
     "text": [
      "Enter 10 elements:\n"
     ]
    },
    {
     "name": "stdin",
     "output_type": "stream",
     "text": [
      " 45\n",
      " 88\n",
      " 99\n",
      " 77\n",
      " 55\n",
      " 66\n",
      " 22\n",
      " 22\n",
      " 77\n",
      " 88\n"
     ]
    },
    {
     "name": "stdout",
     "output_type": "stream",
     "text": [
      "array('i', [45, 88, 99, 77, 55, 66, 22, 22, 77, 88])\n"
     ]
    }
   ],
   "source": [
    "from array import array\n",
    "\n",
    "# Create an empty array of integers\n",
    "arr = array('i', [])\n",
    "x = int(input(\"Enter size of array: \"))\n",
    "\n",
    "print(f\"Enter {x} elements:\")\n",
    "\n",
    "for i in range(x):\n",
    "    n = int(input())\n",
    "    arr.append(n)\n",
    "\n",
    "print(arr)"
   ]
  }
 ],
 "metadata": {
  "kernelspec": {
   "display_name": "Python 3 (ipykernel)",
   "language": "python",
   "name": "python3"
  },
  "language_info": {
   "codemirror_mode": {
    "name": "ipython",
    "version": 3
   },
   "file_extension": ".py",
   "mimetype": "text/x-python",
   "name": "python",
   "nbconvert_exporter": "python",
   "pygments_lexer": "ipython3",
   "version": "3.11.7"
  }
 },
 "nbformat": 4,
 "nbformat_minor": 5
}
